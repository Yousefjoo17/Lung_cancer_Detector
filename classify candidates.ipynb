{
 "cells": [
  {
   "cell_type": "code",
   "execution_count": 1,
   "metadata": {},
   "outputs": [],
   "source": [
    "import datetime\n",
    "\n",
    "from util.util import importstr\n",
    "from util.logconf import logging\n",
    "log = logging.getLogger('nb')"
   ]
  },
  {
   "cell_type": "code",
   "execution_count": 2,
   "metadata": {},
   "outputs": [],
   "source": [
    "# eg: app='p2ch11.training.LunaTrainingApp'\n",
    "def run(app, *argv):\n",
    "    argv = list(argv)\n",
    "    argv.insert(0, '--num-workers=4')  # <1>\n",
    "    log.info(\"Running: {}({!r}).main()\".format(app, argv))\n",
    "    \n",
    "    app_cls = importstr(*app.rsplit('.', 1))  # <2> #app_cls=LunaTrainingApp()\n",
    "    app_cls(argv).main()\n",
    "    \n",
    "    log.info(\"Finished: {}.{!r}).main()\".format(app, argv))"
   ]
  },
  {
   "cell_type": "code",
   "execution_count": null,
   "metadata": {},
   "outputs": [],
   "source": [
    "import os\n",
    "import shutil\n",
    "\n",
    "# clean up any old data that might be around.\n",
    "# We don't call this by default because it's destructive, \n",
    "# and would waste a lot of time if it ran when nothing \n",
    "# on the application side had changed.\n",
    "def cleanCache():\n",
    "    shutil.rmtree('data-unversioned/cache')\n",
    "    os.mkdir('data-unversioned/cache')\n",
    "\n",
    "# cleanCache()"
   ]
  },
  {
   "cell_type": "code",
   "execution_count": 3,
   "metadata": {},
   "outputs": [],
   "source": [
    "training_epochs = 20\n",
    "experiment_epochs = 10\n",
    "final_epochs = 50\n",
    "\n",
    "training_epochs = 2\n",
    "experiment_epochs = 2\n",
    "final_epochs = 5\n",
    "seg_epochs = 10"
   ]
  },
  {
   "cell_type": "markdown",
   "metadata": {},
   "source": [
    "## Chapter 11"
   ]
  },
  {
   "cell_type": "code",
   "execution_count": 3,
   "metadata": {},
   "outputs": [
    {
     "name": "stderr",
     "output_type": "stream",
     "text": [
      "2025-01-22 05:13:27,183 INFO     pid:10548 nb:005:run Running: p2ch11.prepcache.LunaPrepCacheApp(['--num-workers=4']).main()\n",
      "2025-01-22 05:13:32,168 INFO     pid:10548 p2ch11.prepcache:043:main Starting LunaPrepCacheApp, Namespace(batch_size=1024, num_workers=4)\n",
      "2025-01-22 05:13:35,203 INFO     pid:10548 p2ch11.dsets:182:__init__ <p2ch11.dsets.LunaDataset object at 0x00000262207F26F0>: 53205 training samples\n",
      "2025-01-22 05:13:35,203 WARNING  pid:10548 util.util:219:enumerateWithEstimate Stuffing cache ----/52, starting\n",
      "2025-01-22 05:14:35,383 INFO     pid:10548 util.util:236:enumerateWithEstimate Stuffing cache    8/52, done at 2025-01-22 05:18:52, 0:04:47\n",
      "2025-01-22 05:15:07,614 INFO     pid:10548 util.util:236:enumerateWithEstimate Stuffing cache   16/52, done at 2025-01-22 05:17:54, 0:03:49\n",
      "2025-01-22 05:15:43,695 INFO     pid:10548 util.util:236:enumerateWithEstimate Stuffing cache   32/52, done at 2025-01-22 05:16:48, 0:02:42\n",
      "2025-01-22 05:16:46,206 WARNING  pid:10548 util.util:249:enumerateWithEstimate Stuffing cache ----/52, done at 2025-01-22 05:16:46\n",
      "2025-01-22 05:16:46,238 INFO     pid:10548 nb:010:run Finished: p2ch11.prepcache.LunaPrepCacheApp.['--num-workers=4']).main()\n"
     ]
    }
   ],
   "source": [
    "run('p2ch11.prepcache.LunaPrepCacheApp')"
   ]
  },
  {
   "cell_type": "code",
   "execution_count": 4,
   "metadata": {},
   "outputs": [
    {
     "name": "stderr",
     "output_type": "stream",
     "text": [
      "2025-01-22 05:19:31,595 INFO     pid:10548 nb:005:run Running: p2ch11.training.LunaTrainingApp(['--num-workers=4', '--epochs=1']).main()\n",
      "2025-01-22 05:19:39,426 INFO     pid:10548 p2ch11.dsets:182:__init__ <p2ch11.dsets.LunaDataset object at 0x0000026225E267B0>: 53205 training samples\n",
      "2025-01-22 05:19:39,426 INFO     pid:10548 p2ch11.training:080:__init__ number of all samples (canditates)=53205 .\n",
      "2025-01-22 05:19:39,426 INFO     pid:10548 p2ch11.training:144:main Starting LunaTrainingApp, Namespace(num_workers=4, batch_size=32, epochs=1, tb_prefix='p2ch11', comment='dwlpt')\n",
      "2025-01-22 05:19:39,434 INFO     pid:10548 p2ch11.dsets:182:__init__ <p2ch11.dsets.LunaDataset object at 0x000002621A4E8710>: 47884 training samples\n",
      "2025-01-22 05:19:39,443 INFO     pid:10548 p2ch11.dsets:182:__init__ <p2ch11.dsets.LunaDataset object at 0x0000026225E267B0>: 5321 validation samples\n",
      "2025-01-22 05:19:39,446 INFO     pid:10548 p2ch11.training:151:main Epoch 1 of 1, 1497/167 batches of size 32*1\n",
      "2025-01-22 05:19:39,446 WARNING  pid:10548 util.util:219:enumerateWithEstimate E1 Training ----/1497, starting\n",
      "2025-01-22 05:20:35,341 INFO     pid:10548 util.util:236:enumerateWithEstimate E1 Training   16/1497, done at 2025-01-22 06:29:23, 1:09:24\n",
      "2025-01-22 05:22:51,396 INFO     pid:10548 util.util:236:enumerateWithEstimate E1 Training   64/1497, done at 2025-01-22 06:30:16, 1:10:17\n",
      "2025-01-22 05:31:06,991 INFO     pid:10548 util.util:236:enumerateWithEstimate E1 Training  256/1497, done at 2025-01-22 06:25:40, 1:05:41\n",
      "2025-01-22 05:55:33,701 INFO     pid:10548 util.util:236:enumerateWithEstimate E1 Training 1024/1497, done at 2025-01-22 06:12:00, 0:52:01\n",
      "2025-01-22 06:06:53,768 WARNING  pid:10548 util.util:249:enumerateWithEstimate E1 Training ----/1497, done at 2025-01-22 06:06:53\n",
      "2025-01-22 06:06:53,801 INFO     pid:10548 p2ch11.training:266:logMetrics E1 LunaTrainingApp\n",
      "2025-01-22 06:06:53,884 INFO     pid:10548 p2ch11.training:299:logMetrics E1 trn      0.0238 loss,  99.7% correct, \n",
      "2025-01-22 06:06:53,885 INFO     pid:10548 p2ch11.training:308:logMetrics E1 trn_neg  0.0031 loss, 100.0% correct (47745 of 47745)\n",
      "2025-01-22 06:06:53,886 INFO     pid:10548 p2ch11.training:319:logMetrics E1 trn_pos  7.1449 loss,   0.0% correct (0 of 139)\n",
      "2025-01-22 06:06:53,915 WARNING  pid:10548 util.util:219:enumerateWithEstimate E1 Validation  ----/167, starting\n",
      "2025-01-22 06:07:10,750 INFO     pid:10548 util.util:236:enumerateWithEstimate E1 Validation    16/167, done at 2025-01-22 06:07:50, 0:00:43\n",
      "2025-01-22 06:07:22,911 INFO     pid:10548 util.util:236:enumerateWithEstimate E1 Validation    64/167, done at 2025-01-22 06:07:49, 0:00:41\n",
      "2025-01-22 06:07:48,427 WARNING  pid:10548 util.util:249:enumerateWithEstimate E1 Validation  ----/167, done at 2025-01-22 06:07:48\n",
      "2025-01-22 06:07:48,429 INFO     pid:10548 p2ch11.training:266:logMetrics E1 LunaTrainingApp\n",
      "2025-01-22 06:07:48,445 INFO     pid:10548 p2ch11.training:299:logMetrics E1 val      0.0205 loss,  99.7% correct, \n",
      "2025-01-22 06:07:48,446 INFO     pid:10548 p2ch11.training:308:logMetrics E1 val_neg  0.0035 loss, 100.0% correct (5305 of 5305)\n",
      "2025-01-22 06:07:48,446 INFO     pid:10548 p2ch11.training:319:logMetrics E1 val_pos  5.6593 loss,   0.0% correct (0 of 16)\n",
      "2025-01-22 06:07:48,464 INFO     pid:10548 nb:010:run Finished: p2ch11.training.LunaTrainingApp.['--num-workers=4', '--epochs=1']).main()\n"
     ]
    }
   ],
   "source": [
    "run('p2ch11.training.LunaTrainingApp', '--epochs=1')"
   ]
  },
  {
   "cell_type": "code",
   "execution_count": 6,
   "metadata": {},
   "outputs": [
    {
     "name": "stderr",
     "output_type": "stream",
     "text": [
      "2025-01-22 14:19:32,636 INFO     pid:10548 nb:005:run Running: p2ch11.training.LunaTrainingApp(['--num-workers=4', '--epochs=10']).main()\n",
      "2025-01-22 14:19:32,689 INFO     pid:10548 p2ch11.dsets:182:__init__ <p2ch11.dsets.LunaDataset object at 0x000002622A68DBE0>: 53205 training samples\n",
      "2025-01-22 14:19:32,689 INFO     pid:10548 p2ch11.training:080:__init__ number of all samples (canditates)=53205 .\n",
      "2025-01-22 14:19:32,689 INFO     pid:10548 p2ch11.training:144:main Starting LunaTrainingApp, Namespace(num_workers=4, batch_size=32, epochs=10, tb_prefix='p2ch11', comment='dwlpt')\n",
      "2025-01-22 14:19:32,709 INFO     pid:10548 p2ch11.dsets:182:__init__ <p2ch11.dsets.LunaDataset object at 0x0000026229DEC770>: 47884 training samples\n",
      "2025-01-22 14:19:32,711 INFO     pid:10548 p2ch11.dsets:182:__init__ <p2ch11.dsets.LunaDataset object at 0x000002622A0CAF60>: 5321 validation samples\n",
      "2025-01-22 14:19:32,713 INFO     pid:10548 p2ch11.training:151:main Epoch 1 of 10, 1497/167 batches of size 32*1\n",
      "2025-01-22 14:19:32,715 WARNING  pid:10548 util.util:219:enumerateWithEstimate E1 Training ----/1497, starting\n",
      "2025-01-22 14:20:23,172 INFO     pid:10548 util.util:236:enumerateWithEstimate E1 Training   16/1497, done at 2025-01-22 15:13:53, 0:53:58\n",
      "2025-01-22 14:21:56,476 INFO     pid:10548 util.util:236:enumerateWithEstimate E1 Training   64/1497, done at 2025-01-22 15:09:28, 0:49:33\n",
      "2025-01-22 14:28:39,401 INFO     pid:10548 util.util:236:enumerateWithEstimate E1 Training  256/1497, done at 2025-01-22 15:11:29, 0:51:34\n",
      "2025-01-22 14:53:22,200 INFO     pid:10548 util.util:236:enumerateWithEstimate E1 Training 1024/1497, done at 2025-01-22 15:08:50, 0:48:55\n",
      "2025-01-22 15:02:44,861 WARNING  pid:10548 util.util:249:enumerateWithEstimate E1 Training ----/1497, done at 2025-01-22 15:02:44\n",
      "2025-01-22 15:02:44,879 INFO     pid:10548 p2ch11.training:266:logMetrics E1 LunaTrainingApp\n",
      "2025-01-22 15:02:44,929 INFO     pid:10548 p2ch11.training:299:logMetrics E1 trn      0.0230 loss,  99.7% correct, \n",
      "2025-01-22 15:02:44,929 INFO     pid:10548 p2ch11.training:308:logMetrics E1 trn_neg  0.0030 loss, 100.0% correct (47743 of 47745)\n",
      "2025-01-22 15:02:44,929 INFO     pid:10548 p2ch11.training:319:logMetrics E1 trn_pos  6.8620 loss,   0.0% correct (0 of 139)\n",
      "2025-01-22 15:02:44,947 WARNING  pid:10548 util.util:219:enumerateWithEstimate E1 Validation  ----/167, starting\n",
      "2025-01-22 15:02:58,277 INFO     pid:10548 util.util:236:enumerateWithEstimate E1 Validation    16/167, done at 2025-01-22 15:03:32, 0:00:36\n",
      "2025-01-22 15:03:09,178 INFO     pid:10548 util.util:236:enumerateWithEstimate E1 Validation    64/167, done at 2025-01-22 15:03:32, 0:00:36\n",
      "2025-01-22 15:03:32,765 WARNING  pid:10548 util.util:249:enumerateWithEstimate E1 Validation  ----/167, done at 2025-01-22 15:03:32\n",
      "2025-01-22 15:03:32,775 INFO     pid:10548 p2ch11.training:266:logMetrics E1 LunaTrainingApp\n",
      "2025-01-22 15:03:32,789 INFO     pid:10548 p2ch11.training:299:logMetrics E1 val      0.0211 loss,  99.7% correct, \n",
      "2025-01-22 15:03:32,789 INFO     pid:10548 p2ch11.training:308:logMetrics E1 val_neg  0.0015 loss, 100.0% correct (5305 of 5305)\n",
      "2025-01-22 15:03:32,789 INFO     pid:10548 p2ch11.training:319:logMetrics E1 val_pos  6.5040 loss,   0.0% correct (0 of 16)\n",
      "2025-01-22 15:03:32,796 INFO     pid:10548 p2ch11.training:151:main Epoch 2 of 10, 1497/167 batches of size 32*1\n",
      "2025-01-22 15:03:32,798 WARNING  pid:10548 util.util:219:enumerateWithEstimate E2 Training ----/1497, starting\n",
      "2025-01-22 15:04:01,808 INFO     pid:10548 util.util:236:enumerateWithEstimate E2 Training   16/1497, done at 2025-01-22 15:32:09, 0:28:22\n",
      "2025-01-22 15:04:57,744 INFO     pid:10548 util.util:236:enumerateWithEstimate E2 Training   64/1497, done at 2025-01-22 15:32:38, 0:28:51\n",
      "2025-01-22 15:08:40,011 INFO     pid:10548 util.util:236:enumerateWithEstimate E2 Training  256/1497, done at 2025-01-22 15:32:36, 0:28:49\n",
      "2025-01-22 15:27:24,048 INFO     pid:10548 util.util:236:enumerateWithEstimate E2 Training 1024/1497, done at 2025-01-22 15:38:19, 0:34:32\n",
      "2025-01-22 15:37:35,512 WARNING  pid:10548 util.util:249:enumerateWithEstimate E2 Training ----/1497, done at 2025-01-22 15:37:35\n",
      "2025-01-22 15:37:35,512 INFO     pid:10548 p2ch11.training:266:logMetrics E2 LunaTrainingApp\n",
      "2025-01-22 15:37:35,546 INFO     pid:10548 p2ch11.training:299:logMetrics E2 trn      0.0209 loss,  99.7% correct, \n",
      "2025-01-22 15:37:35,546 INFO     pid:10548 p2ch11.training:308:logMetrics E2 trn_neg  0.0029 loss, 100.0% correct (47745 of 47745)\n",
      "2025-01-22 15:37:35,556 INFO     pid:10548 p2ch11.training:319:logMetrics E2 trn_pos  6.1934 loss,   0.0% correct (0 of 139)\n",
      "2025-01-22 15:37:35,567 WARNING  pid:10548 util.util:219:enumerateWithEstimate E2 Validation  ----/167, starting\n",
      "2025-01-22 15:37:49,266 INFO     pid:10548 util.util:236:enumerateWithEstimate E2 Validation    16/167, done at 2025-01-22 15:38:25, 0:00:38\n",
      "2025-01-22 15:38:00,247 INFO     pid:10548 util.util:236:enumerateWithEstimate E2 Validation    64/167, done at 2025-01-22 15:38:23, 0:00:37\n",
      "2025-01-22 15:38:23,990 WARNING  pid:10548 util.util:249:enumerateWithEstimate E2 Validation  ----/167, done at 2025-01-22 15:38:23\n",
      "2025-01-22 15:38:23,991 INFO     pid:10548 p2ch11.training:266:logMetrics E2 LunaTrainingApp\n",
      "2025-01-22 15:38:23,998 INFO     pid:10548 p2ch11.training:299:logMetrics E2 val      0.0211 loss,  99.7% correct, \n",
      "2025-01-22 15:38:23,998 INFO     pid:10548 p2ch11.training:308:logMetrics E2 val_neg  0.0014 loss, 100.0% correct (5305 of 5305)\n",
      "2025-01-22 15:38:24,008 INFO     pid:10548 p2ch11.training:319:logMetrics E2 val_pos  6.5535 loss,   0.0% correct (0 of 16)\n",
      "2025-01-22 15:38:24,011 INFO     pid:10548 p2ch11.training:151:main Epoch 3 of 10, 1497/167 batches of size 32*1\n",
      "2025-01-22 15:38:24,013 WARNING  pid:10548 util.util:219:enumerateWithEstimate E3 Training ----/1497, starting\n",
      "2025-01-22 15:38:52,816 INFO     pid:10548 util.util:236:enumerateWithEstimate E3 Training   16/1497, done at 2025-01-22 16:06:40, 0:28:02\n",
      "2025-01-22 15:39:47,212 INFO     pid:10548 util.util:236:enumerateWithEstimate E3 Training   64/1497, done at 2025-01-22 16:06:48, 0:28:09\n",
      "2025-01-22 15:45:13,653 INFO     pid:10548 util.util:236:enumerateWithEstimate E3 Training  256/1497, done at 2025-01-22 16:17:32, 0:38:53\n",
      "2025-01-22 16:13:02,006 INFO     pid:10548 util.util:236:enumerateWithEstimate E3 Training 1024/1497, done at 2025-01-22 16:28:56, 0:50:17\n",
      "2025-01-22 16:30:04,291 WARNING  pid:10548 util.util:249:enumerateWithEstimate E3 Training ----/1497, done at 2025-01-22 16:30:04\n",
      "2025-01-22 16:30:04,307 INFO     pid:10548 p2ch11.training:266:logMetrics E3 LunaTrainingApp\n",
      "2025-01-22 16:30:04,341 INFO     pid:10548 p2ch11.training:299:logMetrics E3 trn      0.0208 loss,  99.7% correct, \n",
      "2025-01-22 16:30:04,344 INFO     pid:10548 p2ch11.training:308:logMetrics E3 trn_neg  0.0029 loss, 100.0% correct (47745 of 47745)\n",
      "2025-01-22 16:30:04,344 INFO     pid:10548 p2ch11.training:319:logMetrics E3 trn_pos  6.1737 loss,   0.0% correct (0 of 139)\n",
      "2025-01-22 16:30:04,414 WARNING  pid:10548 util.util:219:enumerateWithEstimate E3 Validation  ----/167, starting\n",
      "2025-01-22 16:30:21,356 INFO     pid:10548 util.util:236:enumerateWithEstimate E3 Validation    16/167, done at 2025-01-22 16:31:21, 0:01:05\n",
      "2025-01-22 16:30:40,438 INFO     pid:10548 util.util:236:enumerateWithEstimate E3 Validation    64/167, done at 2025-01-22 16:31:21, 0:01:04\n",
      "2025-01-22 16:31:21,935 WARNING  pid:10548 util.util:249:enumerateWithEstimate E3 Validation  ----/167, done at 2025-01-22 16:31:21\n",
      "2025-01-22 16:31:21,935 INFO     pid:10548 p2ch11.training:266:logMetrics E3 LunaTrainingApp\n",
      "2025-01-22 16:31:21,935 INFO     pid:10548 p2ch11.training:299:logMetrics E3 val      0.0212 loss,  99.7% correct, \n",
      "2025-01-22 16:31:21,935 INFO     pid:10548 p2ch11.training:308:logMetrics E3 val_neg  0.0014 loss, 100.0% correct (5305 of 5305)\n",
      "2025-01-22 16:31:21,944 INFO     pid:10548 p2ch11.training:319:logMetrics E3 val_pos  6.5875 loss,   0.0% correct (0 of 16)\n",
      "2025-01-22 16:31:21,952 INFO     pid:10548 p2ch11.training:151:main Epoch 4 of 10, 1497/167 batches of size 32*1\n",
      "2025-01-22 16:31:21,952 WARNING  pid:10548 util.util:219:enumerateWithEstimate E4 Training ----/1497, starting\n",
      "2025-01-22 16:32:10,188 INFO     pid:10548 util.util:236:enumerateWithEstimate E4 Training   16/1497, done at 2025-01-22 17:22:38, 0:50:55\n",
      "2025-01-22 16:33:50,524 INFO     pid:10548 util.util:236:enumerateWithEstimate E4 Training   64/1497, done at 2025-01-22 17:23:30, 0:51:46\n",
      "2025-01-22 16:40:38,772 INFO     pid:10548 util.util:236:enumerateWithEstimate E4 Training  256/1497, done at 2025-01-22 17:24:21, 0:52:38\n",
      "2025-01-22 17:08:00,576 INFO     pid:10548 util.util:236:enumerateWithEstimate E4 Training 1024/1497, done at 2025-01-22 17:24:46, 0:53:03\n",
      "2025-01-22 17:19:28,882 WARNING  pid:10548 util.util:249:enumerateWithEstimate E4 Training ----/1497, done at 2025-01-22 17:19:28\n",
      "2025-01-22 17:19:28,887 INFO     pid:10548 p2ch11.training:266:logMetrics E4 LunaTrainingApp\n",
      "2025-01-22 17:19:28,915 INFO     pid:10548 p2ch11.training:299:logMetrics E4 trn      0.0208 loss,  99.7% correct, \n",
      "2025-01-22 17:19:28,917 INFO     pid:10548 p2ch11.training:308:logMetrics E4 trn_neg  0.0029 loss, 100.0% correct (47745 of 47745)\n",
      "2025-01-22 17:19:28,918 INFO     pid:10548 p2ch11.training:319:logMetrics E4 trn_pos  6.1581 loss,   0.0% correct (0 of 139)\n",
      "2025-01-22 17:19:28,973 WARNING  pid:10548 util.util:219:enumerateWithEstimate E4 Validation  ----/167, starting\n",
      "2025-01-22 17:19:44,248 INFO     pid:10548 util.util:236:enumerateWithEstimate E4 Validation    16/167, done at 2025-01-22 17:20:20, 0:00:39\n",
      "2025-01-22 17:19:56,510 INFO     pid:10548 util.util:236:enumerateWithEstimate E4 Validation    64/167, done at 2025-01-22 17:20:22, 0:00:41\n",
      "2025-01-22 17:20:38,793 WARNING  pid:10548 util.util:249:enumerateWithEstimate E4 Validation  ----/167, done at 2025-01-22 17:20:38\n",
      "2025-01-22 17:20:38,796 INFO     pid:10548 p2ch11.training:266:logMetrics E4 LunaTrainingApp\n",
      "2025-01-22 17:20:38,819 INFO     pid:10548 p2ch11.training:299:logMetrics E4 val      0.0213 loss,  99.7% correct, \n",
      "2025-01-22 17:20:38,820 INFO     pid:10548 p2ch11.training:308:logMetrics E4 val_neg  0.0013 loss, 100.0% correct (5305 of 5305)\n",
      "2025-01-22 17:20:38,821 INFO     pid:10548 p2ch11.training:319:logMetrics E4 val_pos  6.6319 loss,   0.0% correct (0 of 16)\n",
      "2025-01-22 17:20:38,831 INFO     pid:10548 p2ch11.training:151:main Epoch 5 of 10, 1497/167 batches of size 32*1\n",
      "2025-01-22 17:20:38,832 WARNING  pid:10548 util.util:219:enumerateWithEstimate E5 Training ----/1497, starting\n",
      "2025-01-22 17:21:27,484 INFO     pid:10548 util.util:236:enumerateWithEstimate E5 Training   16/1497, done at 2025-01-22 18:15:42, 0:54:43\n",
      "2025-01-22 17:23:10,983 INFO     pid:10548 util.util:236:enumerateWithEstimate E5 Training   64/1497, done at 2025-01-22 18:14:51, 0:53:53\n",
      "2025-01-22 17:27:26,565 INFO     pid:10548 util.util:236:enumerateWithEstimate E5 Training  256/1497, done at 2025-01-22 17:59:06, 0:38:07\n",
      "2025-01-22 17:43:10,801 INFO     pid:10548 util.util:236:enumerateWithEstimate E5 Training 1024/1497, done at 2025-01-22 17:53:26, 0:32:27\n",
      "2025-01-22 17:51:37,886 WARNING  pid:10548 util.util:249:enumerateWithEstimate E5 Training ----/1497, done at 2025-01-22 17:51:37\n",
      "2025-01-22 17:51:37,889 INFO     pid:10548 p2ch11.training:266:logMetrics E5 LunaTrainingApp\n",
      "2025-01-22 17:51:37,955 INFO     pid:10548 p2ch11.training:299:logMetrics E5 trn      0.0207 loss,  99.7% correct, \n",
      "2025-01-22 17:51:37,955 INFO     pid:10548 p2ch11.training:308:logMetrics E5 trn_neg  0.0029 loss, 100.0% correct (47745 of 47745)\n",
      "2025-01-22 17:51:37,956 INFO     pid:10548 p2ch11.training:319:logMetrics E5 trn_pos  6.1464 loss,   0.0% correct (0 of 139)\n",
      "2025-01-22 17:51:37,985 WARNING  pid:10548 util.util:219:enumerateWithEstimate E5 Validation  ----/167, starting\n",
      "2025-01-22 17:51:52,112 INFO     pid:10548 util.util:236:enumerateWithEstimate E5 Validation    16/167, done at 2025-01-22 17:52:26, 0:00:37\n",
      "2025-01-22 17:52:03,365 INFO     pid:10548 util.util:236:enumerateWithEstimate E5 Validation    64/167, done at 2025-01-22 17:52:27, 0:00:37\n",
      "2025-01-22 17:52:27,114 WARNING  pid:10548 util.util:249:enumerateWithEstimate E5 Validation  ----/167, done at 2025-01-22 17:52:27\n",
      "2025-01-22 17:52:27,116 INFO     pid:10548 p2ch11.training:266:logMetrics E5 LunaTrainingApp\n",
      "2025-01-22 17:52:27,132 INFO     pid:10548 p2ch11.training:299:logMetrics E5 val      0.0214 loss,  99.7% correct, \n",
      "2025-01-22 17:52:27,132 INFO     pid:10548 p2ch11.training:308:logMetrics E5 val_neg  0.0012 loss, 100.0% correct (5305 of 5305)\n",
      "2025-01-22 17:52:27,133 INFO     pid:10548 p2ch11.training:319:logMetrics E5 val_pos  6.6983 loss,   0.0% correct (0 of 16)\n",
      "2025-01-22 17:52:27,138 INFO     pid:10548 p2ch11.training:151:main Epoch 6 of 10, 1497/167 batches of size 32*1\n",
      "2025-01-22 17:52:27,139 WARNING  pid:10548 util.util:219:enumerateWithEstimate E6 Training ----/1497, starting\n",
      "2025-01-22 17:53:00,345 INFO     pid:10548 util.util:236:enumerateWithEstimate E6 Training   16/1497, done at 2025-01-22 18:27:37, 0:34:55\n",
      "2025-01-22 17:54:22,157 INFO     pid:10548 util.util:236:enumerateWithEstimate E6 Training   64/1497, done at 2025-01-22 18:33:31, 0:40:48\n",
      "2025-01-22 18:01:37,085 INFO     pid:10548 util.util:236:enumerateWithEstimate E6 Training  256/1497, done at 2025-01-22 18:45:19, 0:52:37\n",
      "2025-01-22 18:23:07,693 INFO     pid:10548 util.util:236:enumerateWithEstimate E6 Training 1024/1497, done at 2025-01-22 18:37:11, 0:44:29\n",
      "2025-01-22 18:32:15,082 WARNING  pid:10548 util.util:249:enumerateWithEstimate E6 Training ----/1497, done at 2025-01-22 18:32:15\n",
      "2025-01-22 18:32:15,085 INFO     pid:10548 p2ch11.training:266:logMetrics E6 LunaTrainingApp\n",
      "2025-01-22 18:32:15,142 INFO     pid:10548 p2ch11.training:299:logMetrics E6 trn      0.0207 loss,  99.7% correct, \n",
      "2025-01-22 18:32:15,143 INFO     pid:10548 p2ch11.training:308:logMetrics E6 trn_neg  0.0029 loss, 100.0% correct (47745 of 47745)\n",
      "2025-01-22 18:32:15,144 INFO     pid:10548 p2ch11.training:319:logMetrics E6 trn_pos  6.1380 loss,   0.0% correct (0 of 139)\n",
      "2025-01-22 18:32:15,186 WARNING  pid:10548 util.util:219:enumerateWithEstimate E6 Validation  ----/167, starting\n",
      "2025-01-22 18:32:29,707 INFO     pid:10548 util.util:236:enumerateWithEstimate E6 Validation    16/167, done at 2025-01-22 18:33:05, 0:00:38\n",
      "2025-01-22 18:32:41,158 INFO     pid:10548 util.util:236:enumerateWithEstimate E6 Validation    64/167, done at 2025-01-22 18:33:05, 0:00:38\n",
      "2025-01-22 18:33:07,303 WARNING  pid:10548 util.util:249:enumerateWithEstimate E6 Validation  ----/167, done at 2025-01-22 18:33:07\n",
      "2025-01-22 18:33:07,305 INFO     pid:10548 p2ch11.training:266:logMetrics E6 LunaTrainingApp\n",
      "2025-01-22 18:33:07,306 INFO     pid:10548 p2ch11.training:299:logMetrics E6 val      0.0215 loss,  99.7% correct, \n",
      "2025-01-22 18:33:07,306 INFO     pid:10548 p2ch11.training:308:logMetrics E6 val_neg  0.0011 loss, 100.0% correct (5305 of 5305)\n",
      "2025-01-22 18:33:07,306 INFO     pid:10548 p2ch11.training:319:logMetrics E6 val_pos  6.7949 loss,   0.0% correct (0 of 16)\n",
      "2025-01-22 18:33:07,312 INFO     pid:10548 p2ch11.training:151:main Epoch 7 of 10, 1497/167 batches of size 32*1\n",
      "2025-01-22 18:33:07,313 WARNING  pid:10548 util.util:219:enumerateWithEstimate E7 Training ----/1497, starting\n",
      "2025-01-22 18:33:37,185 INFO     pid:10548 util.util:236:enumerateWithEstimate E7 Training   16/1497, done at 2025-01-22 19:02:09, 0:28:46\n",
      "2025-01-22 18:34:31,462 INFO     pid:10548 util.util:236:enumerateWithEstimate E7 Training   64/1497, done at 2025-01-22 19:01:38, 0:28:16\n",
      "2025-01-22 18:38:07,676 INFO     pid:10548 util.util:236:enumerateWithEstimate E7 Training  256/1497, done at 2025-01-22 19:01:27, 0:28:04\n",
      "2025-01-22 18:52:26,706 INFO     pid:10548 util.util:236:enumerateWithEstimate E7 Training 1024/1497, done at 2025-01-22 19:01:15, 0:27:53\n",
      "2025-01-22 19:01:22,601 WARNING  pid:10548 util.util:249:enumerateWithEstimate E7 Training ----/1497, done at 2025-01-22 19:01:22\n",
      "2025-01-22 19:01:22,603 INFO     pid:10548 p2ch11.training:266:logMetrics E7 LunaTrainingApp\n",
      "2025-01-22 19:01:22,652 INFO     pid:10548 p2ch11.training:299:logMetrics E7 trn      0.0207 loss,  99.7% correct, \n",
      "2025-01-22 19:01:22,653 INFO     pid:10548 p2ch11.training:308:logMetrics E7 trn_neg  0.0029 loss, 100.0% correct (47745 of 47745)\n",
      "2025-01-22 19:01:22,654 INFO     pid:10548 p2ch11.training:319:logMetrics E7 trn_pos  6.1315 loss,   0.0% correct (0 of 139)\n",
      "2025-01-22 19:01:22,661 WARNING  pid:10548 util.util:219:enumerateWithEstimate E7 Validation  ----/167, starting\n",
      "2025-01-22 19:01:36,933 INFO     pid:10548 util.util:236:enumerateWithEstimate E7 Validation    16/167, done at 2025-01-22 19:02:12, 0:00:38\n",
      "2025-01-22 19:01:47,805 INFO     pid:10548 util.util:236:enumerateWithEstimate E7 Validation    64/167, done at 2025-01-22 19:02:11, 0:00:37\n",
      "2025-01-22 19:02:11,465 WARNING  pid:10548 util.util:249:enumerateWithEstimate E7 Validation  ----/167, done at 2025-01-22 19:02:11\n",
      "2025-01-22 19:02:11,467 INFO     pid:10548 p2ch11.training:266:logMetrics E7 LunaTrainingApp\n",
      "2025-01-22 19:02:11,468 INFO     pid:10548 p2ch11.training:299:logMetrics E7 val      0.0217 loss,  99.7% correct, \n",
      "2025-01-22 19:02:11,468 INFO     pid:10548 p2ch11.training:308:logMetrics E7 val_neg  0.0010 loss, 100.0% correct (5305 of 5305)\n",
      "2025-01-22 19:02:11,470 INFO     pid:10548 p2ch11.training:319:logMetrics E7 val_pos  6.8983 loss,   0.0% correct (0 of 16)\n",
      "2025-01-22 19:02:11,472 INFO     pid:10548 p2ch11.training:151:main Epoch 8 of 10, 1497/167 batches of size 32*1\n",
      "2025-01-22 19:02:11,473 WARNING  pid:10548 util.util:219:enumerateWithEstimate E8 Training ----/1497, starting\n",
      "2025-01-22 19:02:40,160 INFO     pid:10548 util.util:236:enumerateWithEstimate E8 Training   16/1497, done at 2025-01-22 19:29:41, 0:27:15\n",
      "2025-01-22 19:03:34,563 INFO     pid:10548 util.util:236:enumerateWithEstimate E8 Training   64/1497, done at 2025-01-22 19:30:26, 0:28:00\n",
      "2025-01-22 19:07:21,010 INFO     pid:10548 util.util:236:enumerateWithEstimate E8 Training  256/1497, done at 2025-01-22 19:31:27, 0:29:01\n",
      "2025-01-22 19:21:53,895 INFO     pid:10548 util.util:236:enumerateWithEstimate E8 Training 1024/1497, done at 2025-01-22 19:30:53, 0:28:27\n",
      "2025-01-22 19:31:10,791 WARNING  pid:10548 util.util:249:enumerateWithEstimate E8 Training ----/1497, done at 2025-01-22 19:31:10\n",
      "2025-01-22 19:31:10,792 INFO     pid:10548 p2ch11.training:266:logMetrics E8 LunaTrainingApp\n",
      "2025-01-22 19:31:10,834 INFO     pid:10548 p2ch11.training:299:logMetrics E8 trn      0.0207 loss,  99.7% correct, \n",
      "2025-01-22 19:31:10,835 INFO     pid:10548 p2ch11.training:308:logMetrics E8 trn_neg  0.0029 loss, 100.0% correct (47745 of 47745)\n",
      "2025-01-22 19:31:10,835 INFO     pid:10548 p2ch11.training:319:logMetrics E8 trn_pos  6.1270 loss,   0.0% correct (0 of 139)\n",
      "2025-01-22 19:31:10,843 WARNING  pid:10548 util.util:219:enumerateWithEstimate E8 Validation  ----/167, starting\n",
      "2025-01-22 19:31:25,850 INFO     pid:10548 util.util:236:enumerateWithEstimate E8 Validation    16/167, done at 2025-01-22 19:32:01, 0:00:38\n",
      "2025-01-22 19:31:37,690 INFO     pid:10548 util.util:236:enumerateWithEstimate E8 Validation    64/167, done at 2025-01-22 19:32:02, 0:00:39\n",
      "2025-01-22 19:32:03,012 WARNING  pid:10548 util.util:249:enumerateWithEstimate E8 Validation  ----/167, done at 2025-01-22 19:32:03\n",
      "2025-01-22 19:32:03,013 INFO     pid:10548 p2ch11.training:266:logMetrics E8 LunaTrainingApp\n",
      "2025-01-22 19:32:03,029 INFO     pid:10548 p2ch11.training:299:logMetrics E8 val      0.0219 loss,  99.7% correct, \n",
      "2025-01-22 19:32:03,030 INFO     pid:10548 p2ch11.training:308:logMetrics E8 val_neg  0.0009 loss, 100.0% correct (5305 of 5305)\n",
      "2025-01-22 19:32:03,030 INFO     pid:10548 p2ch11.training:319:logMetrics E8 val_pos  6.9892 loss,   0.0% correct (0 of 16)\n",
      "2025-01-22 19:32:03,035 INFO     pid:10548 p2ch11.training:151:main Epoch 9 of 10, 1497/167 batches of size 32*1\n",
      "2025-01-22 19:32:03,036 WARNING  pid:10548 util.util:219:enumerateWithEstimate E9 Training ----/1497, starting\n",
      "2025-01-22 19:32:33,822 INFO     pid:10548 util.util:236:enumerateWithEstimate E9 Training   16/1497, done at 2025-01-22 20:01:12, 0:28:53\n",
      "2025-01-22 19:33:28,424 INFO     pid:10548 util.util:236:enumerateWithEstimate E9 Training   64/1497, done at 2025-01-22 20:00:44, 0:28:25\n",
      "2025-01-22 19:37:11,583 INFO     pid:10548 util.util:236:enumerateWithEstimate E9 Training  256/1497, done at 2025-01-22 20:01:06, 0:28:48\n",
      "2025-01-22 19:51:45,102 INFO     pid:10548 util.util:236:enumerateWithEstimate E9 Training 1024/1497, done at 2025-01-22 20:00:44, 0:28:25\n",
      "2025-01-22 20:00:37,597 WARNING  pid:10548 util.util:249:enumerateWithEstimate E9 Training ----/1497, done at 2025-01-22 20:00:37\n",
      "2025-01-22 20:00:37,601 INFO     pid:10548 p2ch11.training:266:logMetrics E9 LunaTrainingApp\n",
      "2025-01-22 20:00:37,628 INFO     pid:10548 p2ch11.training:299:logMetrics E9 trn      0.0207 loss,  99.7% correct, \n",
      "2025-01-22 20:00:37,629 INFO     pid:10548 p2ch11.training:308:logMetrics E9 trn_neg  0.0029 loss, 100.0% correct (47745 of 47745)\n",
      "2025-01-22 20:00:37,631 INFO     pid:10548 p2ch11.training:319:logMetrics E9 trn_pos  6.1224 loss,   0.0% correct (0 of 139)\n",
      "2025-01-22 20:00:37,662 WARNING  pid:10548 util.util:219:enumerateWithEstimate E9 Validation  ----/167, starting\n",
      "2025-01-22 20:00:52,284 INFO     pid:10548 util.util:236:enumerateWithEstimate E9 Validation    16/167, done at 2025-01-22 20:01:26, 0:00:37\n",
      "2025-01-22 20:01:03,330 INFO     pid:10548 util.util:236:enumerateWithEstimate E9 Validation    64/167, done at 2025-01-22 20:01:26, 0:00:37\n",
      "2025-01-22 20:01:27,147 WARNING  pid:10548 util.util:249:enumerateWithEstimate E9 Validation  ----/167, done at 2025-01-22 20:01:27\n",
      "2025-01-22 20:01:27,149 INFO     pid:10548 p2ch11.training:266:logMetrics E9 LunaTrainingApp\n",
      "2025-01-22 20:01:27,166 INFO     pid:10548 p2ch11.training:299:logMetrics E9 val      0.0221 loss,  99.7% correct, \n",
      "2025-01-22 20:01:27,167 INFO     pid:10548 p2ch11.training:308:logMetrics E9 val_neg  0.0009 loss, 100.0% correct (5305 of 5305)\n",
      "2025-01-22 20:01:27,167 INFO     pid:10548 p2ch11.training:319:logMetrics E9 val_pos  7.0457 loss,   0.0% correct (0 of 16)\n",
      "2025-01-22 20:01:27,171 INFO     pid:10548 p2ch11.training:151:main Epoch 10 of 10, 1497/167 batches of size 32*1\n",
      "2025-01-22 20:01:27,172 WARNING  pid:10548 util.util:219:enumerateWithEstimate E10 Training ----/1497, starting\n",
      "2025-01-22 20:01:57,625 INFO     pid:10548 util.util:236:enumerateWithEstimate E10 Training   16/1497, done at 2025-01-22 20:30:06, 0:28:23\n",
      "2025-01-22 20:02:53,023 INFO     pid:10548 util.util:236:enumerateWithEstimate E10 Training   64/1497, done at 2025-01-22 20:30:21, 0:28:39\n",
      "2025-01-22 20:06:29,640 INFO     pid:10548 util.util:236:enumerateWithEstimate E10 Training  256/1497, done at 2025-01-22 20:29:55, 0:28:12\n",
      "2025-01-22 20:25:12,075 INFO     pid:10548 util.util:236:enumerateWithEstimate E10 Training 1024/1497, done at 2025-01-22 20:36:03, 0:34:20\n",
      "2025-01-22 20:33:55,823 WARNING  pid:10548 util.util:249:enumerateWithEstimate E10 Training ----/1497, done at 2025-01-22 20:33:55\n",
      "2025-01-22 20:33:55,826 INFO     pid:10548 p2ch11.training:266:logMetrics E10 LunaTrainingApp\n",
      "2025-01-22 20:33:55,878 INFO     pid:10548 p2ch11.training:299:logMetrics E10 trn      0.0207 loss,  99.7% correct, \n",
      "2025-01-22 20:33:55,879 INFO     pid:10548 p2ch11.training:308:logMetrics E10 trn_neg  0.0029 loss, 100.0% correct (47745 of 47745)\n",
      "2025-01-22 20:33:55,879 INFO     pid:10548 p2ch11.training:319:logMetrics E10 trn_pos  6.1145 loss,   0.0% correct (0 of 139)\n",
      "2025-01-22 20:33:55,914 WARNING  pid:10548 util.util:219:enumerateWithEstimate E10 Validation  ----/167, starting\n",
      "2025-01-22 20:34:10,638 INFO     pid:10548 util.util:236:enumerateWithEstimate E10 Validation    16/167, done at 2025-01-22 20:34:45, 0:00:38\n",
      "2025-01-22 20:34:22,285 INFO     pid:10548 util.util:236:enumerateWithEstimate E10 Validation    64/167, done at 2025-01-22 20:34:46, 0:00:39\n",
      "2025-01-22 20:34:46,347 WARNING  pid:10548 util.util:249:enumerateWithEstimate E10 Validation  ----/167, done at 2025-01-22 20:34:46\n",
      "2025-01-22 20:34:46,349 INFO     pid:10548 p2ch11.training:266:logMetrics E10 LunaTrainingApp\n",
      "2025-01-22 20:34:46,368 INFO     pid:10548 p2ch11.training:299:logMetrics E10 val      0.0221 loss,  99.7% correct, \n",
      "2025-01-22 20:34:46,368 INFO     pid:10548 p2ch11.training:308:logMetrics E10 val_neg  0.0009 loss, 100.0% correct (5305 of 5305)\n",
      "2025-01-22 20:34:46,369 INFO     pid:10548 p2ch11.training:319:logMetrics E10 val_pos  7.0461 loss,   0.0% correct (0 of 16)\n",
      "2025-01-22 20:34:46,384 INFO     pid:10548 nb:010:run Finished: p2ch11.training.LunaTrainingApp.['--num-workers=4', '--epochs=10']).main()\n"
     ]
    }
   ],
   "source": [
    "run('p2ch11.training.LunaTrainingApp', '--epochs=10')"
   ]
  },
  {
   "cell_type": "code",
   "execution_count": null,
   "metadata": {},
   "outputs": [],
   "source": [
    "run('p2ch11.training.LunaTrainingApp', f'--epochs={experiment_epochs}')"
   ]
  },
  {
   "cell_type": "markdown",
   "metadata": {},
   "source": [
    "## Chapter 12"
   ]
  },
  {
   "cell_type": "code",
   "execution_count": null,
   "metadata": {},
   "outputs": [],
   "source": [
    "run('p2ch12.prepcache.LunaPrepCacheApp')"
   ]
  },
  {
   "cell_type": "code",
   "execution_count": null,
   "metadata": {},
   "outputs": [],
   "source": [
    "run('p2ch12.training.LunaTrainingApp', '--epochs=1', 'unbalanced')"
   ]
  },
  {
   "cell_type": "code",
   "execution_count": null,
   "metadata": {},
   "outputs": [],
   "source": [
    "run('p2ch12.training.LunaTrainingApp', f'--epochs={training_epochs}', '--balanced', 'balanced')"
   ]
  },
  {
   "cell_type": "code",
   "execution_count": null,
   "metadata": {},
   "outputs": [],
   "source": [
    "run('p2ch12.training.LunaTrainingApp', f'--epochs={experiment_epochs}', '--balanced', '--augment-flip', 'flip')"
   ]
  },
  {
   "cell_type": "code",
   "execution_count": null,
   "metadata": {},
   "outputs": [],
   "source": [
    "run('p2ch12.training.LunaTrainingApp', f'--epochs={experiment_epochs}', '--balanced', '--augment-offset', 'offset')"
   ]
  },
  {
   "cell_type": "code",
   "execution_count": null,
   "metadata": {},
   "outputs": [],
   "source": [
    "run('p2ch12.training.LunaTrainingApp', f'--epochs={experiment_epochs}', '--balanced', '--augment-scale', 'scale')"
   ]
  },
  {
   "cell_type": "code",
   "execution_count": null,
   "metadata": {},
   "outputs": [],
   "source": [
    "run('p2ch12.training.LunaTrainingApp', f'--epochs={experiment_epochs}', '--balanced', '--augment-rotate', 'rotate')"
   ]
  },
  {
   "cell_type": "code",
   "execution_count": null,
   "metadata": {},
   "outputs": [],
   "source": [
    "run('p2ch12.training.LunaTrainingApp', f'--epochs={experiment_epochs}', '--balanced', '--augment-noise', 'noise')"
   ]
  },
  {
   "cell_type": "code",
   "execution_count": null,
   "metadata": {},
   "outputs": [],
   "source": [
    "run('p2ch12.training.LunaTrainingApp', f'--epochs={training_epochs}', '--balanced', '--augmented', 'fully-augmented')"
   ]
  },
  {
   "cell_type": "markdown",
   "metadata": {},
   "source": [
    "## Chapter 13"
   ]
  },
  {
   "cell_type": "code",
   "execution_count": null,
   "metadata": {},
   "outputs": [],
   "source": [
    "run('p2ch13.prepcache.LunaPrepCacheApp')"
   ]
  },
  {
   "cell_type": "code",
   "execution_count": null,
   "metadata": {},
   "outputs": [],
   "source": [
    "run('p2ch13.training.LunaTrainingApp', f'--epochs={final_epochs}', '--balanced', '--augmented', 'final-cls')"
   ]
  },
  {
   "cell_type": "code",
   "execution_count": null,
   "metadata": {
    "scrolled": true
   },
   "outputs": [],
   "source": [
    "run('p2ch13.train_seg.LunaTrainingApp', f'--epochs={seg_epochs}', '--augmented', 'final-seg')"
   ]
  },
  {
   "cell_type": "markdown",
   "metadata": {},
   "source": [
    "## Chapter 14"
   ]
  },
  {
   "cell_type": "code",
   "execution_count": null,
   "metadata": {},
   "outputs": [],
   "source": [
    "run('p2ch14.prepcache.LunaPrepCacheApp')"
   ]
  },
  {
   "cell_type": "code",
   "execution_count": null,
   "metadata": {
    "scrolled": true
   },
   "outputs": [],
   "source": [
    "run('p2ch14.training.ClassificationTrainingApp', f'--epochs=100', 'nodule-nonnodule')"
   ]
  },
  {
   "cell_type": "code",
   "execution_count": null,
   "metadata": {
    "scrolled": false
   },
   "outputs": [],
   "source": [
    "run('p2ch14.training.ClassificationTrainingApp', f'--epochs=40', '--malignant', '--dataset=MalignantLunaDataset',\n",
    "    '--finetune=''data/part2/models/cls_2020-02-06_14.16.55_final-nodule-nonnodule.best.state',\n",
    "    'finetune-head')\n"
   ]
  },
  {
   "cell_type": "code",
   "execution_count": null,
   "metadata": {
    "scrolled": false
   },
   "outputs": [],
   "source": [
    "run('p2ch14.training.ClassificationTrainingApp', f'--epochs=40', '--malignant', '--dataset=MalignantLunaDataset',\n",
    "    '--finetune=''data/part2/models/cls_2020-02-06_14.16.55_final-nodule-nonnodule.best.state',\n",
    "    '--finetune-depth=2',\n",
    "    'finetune-depth2')\n"
   ]
  },
  {
   "cell_type": "code",
   "execution_count": null,
   "metadata": {},
   "outputs": [],
   "source": [
    "run('p2ch14.nodule_analysis.NoduleAnalysisApp', '--run-validation')"
   ]
  },
  {
   "cell_type": "code",
   "execution_count": null,
   "metadata": {},
   "outputs": [],
   "source": [
    "run('p2ch14.nodule_analysis.NoduleAnalysisApp', '--run-validation', '--malignancy-path')"
   ]
  },
  {
   "cell_type": "code",
   "execution_count": null,
   "metadata": {},
   "outputs": [],
   "source": []
  },
  {
   "cell_type": "code",
   "execution_count": null,
   "metadata": {},
   "outputs": [],
   "source": []
  }
 ],
 "metadata": {
  "kernelspec": {
   "display_name": "Python 3",
   "language": "python",
   "name": "python3"
  },
  "language_info": {
   "codemirror_mode": {
    "name": "ipython",
    "version": 3
   },
   "file_extension": ".py",
   "mimetype": "text/x-python",
   "name": "python",
   "nbconvert_exporter": "python",
   "pygments_lexer": "ipython3",
   "version": "3.12.0"
  }
 },
 "nbformat": 4,
 "nbformat_minor": 2
}
