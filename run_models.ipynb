{
 "cells": [
  {
   "cell_type": "code",
   "execution_count": 1,
   "metadata": {},
   "outputs": [],
   "source": [
    "import datetime\n",
    "\n",
    "from util.util import importstr\n",
    "from util.logconf import logging\n",
    "log = logging.getLogger('nb')"
   ]
  },
  {
   "cell_type": "code",
   "execution_count": 2,
   "metadata": {},
   "outputs": [],
   "source": [
    "# eg: app='p2ch11.training.LunaTrainingApp'\n",
    "def run(app, *argv):\n",
    "    argv = list(argv)\n",
    "    argv.insert(0, '--num-workers=4')  # <1>\n",
    "    log.info(\"Running: {}({!r}).main()\".format(app, argv))\n",
    "    \n",
    "    app_cls = importstr(*app.rsplit('.', 1))  # <2> #app_cls=LunaTrainingApp()\n",
    "    app_cls(argv).main()\n",
    "    \n",
    "    log.info(\"Finished: {}.{!r}).main()\".format(app, argv))"
   ]
  },
  {
   "cell_type": "code",
   "execution_count": 15,
   "metadata": {},
   "outputs": [],
   "source": [
    "import os\n",
    "import shutil\n",
    "\n",
    "# clean up any old data that might be around.\n",
    "# We don't call this by default because it's destructive, \n",
    "# and would waste a lot of time if it ran when nothing \n",
    "# on the application side had changed.\n",
    "def cleanCache():\n",
    "    shutil.rmtree('data-unversioned/cache')\n",
    "    os.mkdir('data-unversioned/cache')\n",
    "\n",
    "# cleanCache()"
   ]
  },
  {
   "cell_type": "code",
   "execution_count": 4,
   "metadata": {},
   "outputs": [],
   "source": [
    "training_epochs = 20\n",
    "experiment_epochs = 5\n",
    "final_epochs = 50\n",
    "\n",
    "training_epochs = 2\n",
    "experiment_epochs = 5\n",
    "final_epochs = 5\n",
    "seg_epochs = 10"
   ]
  },
  {
   "cell_type": "markdown",
   "metadata": {},
   "source": [
    "## Chapter 11"
   ]
  },
  {
   "cell_type": "code",
   "execution_count": null,
   "metadata": {},
   "outputs": [],
   "source": [
    "run('p2ch11.prepcache.LunaPrepCacheApp')"
   ]
  },
  {
   "cell_type": "code",
   "execution_count": null,
   "metadata": {},
   "outputs": [],
   "source": [
    "run('p2ch11.training.LunaTrainingApp', '--epochs=1')"
   ]
  },
  {
   "cell_type": "code",
   "execution_count": null,
   "metadata": {},
   "outputs": [],
   "source": [
    "run('p2ch11.training.LunaTrainingApp', '--epochs=10')"
   ]
  },
  {
   "cell_type": "code",
   "execution_count": null,
   "metadata": {},
   "outputs": [],
   "source": [
    "run('p2ch11.training.LunaTrainingApp', f'--epochs={experiment_epochs}')"
   ]
  },
  {
   "cell_type": "markdown",
   "metadata": {},
   "source": [
    "## Chapter 12"
   ]
  },
  {
   "cell_type": "code",
   "execution_count": null,
   "metadata": {},
   "outputs": [],
   "source": [
    "run('p2ch12.prepcache.LunaPrepCacheApp')"
   ]
  },
  {
   "cell_type": "code",
   "execution_count": null,
   "metadata": {},
   "outputs": [],
   "source": [
    "run('p2ch12.training.LunaTrainingApp', '--epochs=1', 'unbalanced')"
   ]
  },
  {
   "cell_type": "code",
   "execution_count": null,
   "metadata": {},
   "outputs": [],
   "source": [
    "run('p2ch12.training.LunaTrainingApp', f'--epochs={5}', '--balanced', 'balanced')"
   ]
  },
  {
   "cell_type": "code",
   "execution_count": null,
   "metadata": {},
   "outputs": [],
   "source": [
    "run('p2ch12.training.LunaTrainingApp', f'--epochs={5}', '--balanced', '--augment-flip', 'flip')"
   ]
  },
  {
   "cell_type": "code",
   "execution_count": null,
   "metadata": {},
   "outputs": [],
   "source": [
    "run('p2ch12.training.LunaTrainingApp', f'--epochs={experiment_epochs}', '--balanced', '--augment-offset', 'offset')"
   ]
  },
  {
   "cell_type": "code",
   "execution_count": null,
   "metadata": {},
   "outputs": [],
   "source": [
    "run('p2ch12.training.LunaTrainingApp', f'--epochs={experiment_epochs}', '--balanced', '--augment-scale', 'scale')"
   ]
  },
  {
   "cell_type": "code",
   "execution_count": null,
   "metadata": {},
   "outputs": [],
   "source": [
    "run('p2ch12.training.LunaTrainingApp', f'--epochs={experiment_epochs}', '--balanced', '--augment-rotate', 'rotate')"
   ]
  },
  {
   "cell_type": "code",
   "execution_count": null,
   "metadata": {},
   "outputs": [],
   "source": [
    "run('p2ch12.training.LunaTrainingApp', f'--epochs={experiment_epochs}', '--balanced', '--augment-noise', 'noise')"
   ]
  },
  {
   "cell_type": "code",
   "execution_count": null,
   "metadata": {},
   "outputs": [],
   "source": [
    "run('p2ch12.training.LunaTrainingApp', f'--epochs={15}', '--balanced', '--augmented', 'fully-augmented')"
   ]
  },
  {
   "cell_type": "markdown",
   "metadata": {},
   "source": [
    "## Chapter 13"
   ]
  },
  {
   "cell_type": "code",
   "execution_count": null,
   "metadata": {},
   "outputs": [],
   "source": [
    "run('p2ch13.prepcache.LunaPrepCacheApp')"
   ]
  },
  {
   "cell_type": "code",
   "execution_count": null,
   "metadata": {},
   "outputs": [],
   "source": [
    "run('p2ch13.training.SegmentationTrainingApp', f'--epochs={20}', '--balanced', '--augmented', 'final-cls')"
   ]
  },
  {
   "cell_type": "code",
   "execution_count": null,
   "metadata": {},
   "outputs": [],
   "source": [
    "run('p2ch13.training.LunaTrainingApp', f'--epochs={20}', '--balanced', '--augment-flip', 'final-cls')"
   ]
  },
  {
   "cell_type": "code",
   "execution_count": null,
   "metadata": {},
   "outputs": [],
   "source": [
    "run('p2ch13.training.SegmentationTrainingApp', f'--epochs={20}', '--augmented', 'final-cls')"
   ]
  },
  {
   "cell_type": "code",
   "execution_count": null,
   "metadata": {
    "scrolled": true
   },
   "outputs": [],
   "source": [
    "run('p2ch13.train_seg.LunaTrainingApp', f'--epochs={20}', '--augmented', 'final-seg')"
   ]
  },
  {
   "cell_type": "markdown",
   "metadata": {},
   "source": [
    "## Chapter 14"
   ]
  },
  {
   "cell_type": "code",
   "execution_count": null,
   "metadata": {},
   "outputs": [],
   "source": [
    "run('p2ch14.prepcache.LunaPrepCacheApp')"
   ]
  },
  {
   "cell_type": "code",
   "execution_count": null,
   "metadata": {
    "scrolled": true
   },
   "outputs": [],
   "source": [
    "run('p2ch14.training.ClassificationTrainingApp', f'--epochs=10', 'nodule-nonnodule')"
   ]
  },
  {
   "cell_type": "code",
   "execution_count": null,
   "metadata": {
    "scrolled": false
   },
   "outputs": [],
   "source": [
    "run('p2ch14.training.ClassificationTrainingApp', f'--epochs=40', '--malignant', '--dataset=MalignantLunaDataset',\n",
    "    '--finetune=''data/part2/models/cls_2020-02-06_14.16.55_final-nodule-nonnodule.best.state',\n",
    "    'finetune-head')\n"
   ]
  },
  {
   "cell_type": "code",
   "execution_count": null,
   "metadata": {
    "scrolled": false
   },
   "outputs": [],
   "source": [
    "run('p2ch14.training.ClassificationTrainingApp', f'--epochs=40', '--malignant', '--dataset=MalignantLunaDataset',\n",
    "    '--finetune=''data/part2/models/cls_2020-02-06_14.16.55_final-nodule-nonnodule.best.state',\n",
    "    '--finetune-depth=2',\n",
    "    'finetune-depth2')\n"
   ]
  },
  {
   "cell_type": "code",
   "execution_count": 6,
   "metadata": {},
   "outputs": [
    {
     "name": "stderr",
     "output_type": "stream",
     "text": [
      "2025-02-15 15:59:43,248 INFO     pid:13908 nb:005:run Running: p2ch14.nodule_analysis.NoduleAnalysisApp(['--num-workers=4', '--run-validation']).main()\n",
      "2025-02-15 15:59:48,829 DEBUG    pid:13908 p2ch14.nodule_analysis:211:initModels data/part2/models/seg_2020-01-26_19.45.12_w4d3c1-bal_1_nodupe-label_pos-d1_fn8-adam.best.state\n",
      "d:\\Machine learning\\dlwpt-code-master\\p2ch14\\nodule_analysis.py:212: FutureWarning: You are using `torch.load` with `weights_only=False` (the current default value), which uses the default pickle module implicitly. It is possible to construct malicious pickle data which will execute arbitrary code during unpickling (See https://github.com/pytorch/pytorch/blob/main/SECURITY.md#untrusted-models for more details). In a future release, the default value for `weights_only` will be flipped to `True`. This limits the functions that could be executed during unpickling. Arbitrary objects will no longer be allowed to be loaded via this mode unless they are explicitly allowlisted by the user via `torch.serialization.add_safe_globals`. We recommend you start setting `weights_only=True` for any use case where you don't have full control of the loaded file. Please open an issue on GitHub for any issues related to this experimental feature.\n",
      "  seg_dict = torch.load(self.cli_args.segmentation_path, map_location=self.device)\n",
      "2025-02-15 15:59:48,849 DEBUG    pid:13908 p2ch14.nodule_analysis:227:initModels data/part2/models/cls_2020-02-06_14.16.55_final-nodule-nonnodule.best.state\n",
      "d:\\Machine learning\\dlwpt-code-master\\p2ch14\\nodule_analysis.py:228: FutureWarning: You are using `torch.load` with `weights_only=False` (the current default value), which uses the default pickle module implicitly. It is possible to construct malicious pickle data which will execute arbitrary code during unpickling (See https://github.com/pytorch/pytorch/blob/main/SECURITY.md#untrusted-models for more details). In a future release, the default value for `weights_only` will be flipped to `True`. This limits the functions that could be executed during unpickling. Arbitrary objects will no longer be allowed to be loaded via this mode unless they are explicitly allowlisted by the user via `torch.serialization.add_safe_globals`. We recommend you start setting `weights_only=True` for any use case where you don't have full control of the loaded file. Please open an issue on GitHub for any issues related to this experimental feature.\n",
      "  cls_dict = torch.load(self.cli_args.classification_path,map_location=self.device)\n",
      "2025-02-15 15:59:48,858 INFO     pid:13908 p2ch14.nodule_analysis:287:main Starting NoduleAnalysisApp, Namespace(batch_size=4, num_workers=4, run_validation=True, include_train=False, segmentation_path='data/part2/models/seg_2020-01-26_19.45.12_w4d3c1-bal_1_nodupe-label_pos-d1_fn8-adam.best.state', cls_model='LunaModel', classification_path='data/part2/models/cls_2020-02-06_14.16.55_final-nodule-nonnodule.best.state', malignancy_model='LunaModel', malignancy_path=None, tb_prefix='p2ch14', series_uid=None)\n",
      "2025-02-15 15:59:52,360 WARNING  pid:13908 util.util:219:enumerateWithEstimate Series ----/9, starting\n"
     ]
    },
    {
     "name": "stdout",
     "output_type": "stream",
     "text": [
      "1.3.6.1.4.1.14519.5.2.1.6279.6001.100684836163890911914061745866\n",
      "                 |    Complete Miss |     Filtered Out |     Pred. Nodule\n",
      "     Non-Nodules |                  |             1028 |                3\n",
      "          Benign |                0 |                0 |                0\n",
      "       Malignant |                0 |                0 |                0\n",
      "1.3.6.1.4.1.14519.5.2.1.6279.6001.134370886216012873213579659366\n",
      "                 |    Complete Miss |     Filtered Out |     Pred. Nodule\n",
      "     Non-Nodules |                  |             1073 |               12\n",
      "          Benign |                0 |                0 |                1\n",
      "       Malignant |                0 |                0 |                1\n",
      "1.3.6.1.4.1.14519.5.2.1.6279.6001.162718361851587451505896742103\n",
      "                 |    Complete Miss |     Filtered Out |     Pred. Nodule\n",
      "     Non-Nodules |                  |              906 |               19\n",
      "          Benign |                0 |                0 |                1\n",
      "       Malignant |                0 |                0 |                0\n",
      "1.3.6.1.4.1.14519.5.2.1.6279.6001.183184435049555024219115904825\n",
      "                 |    Complete Miss |     Filtered Out |     Pred. Nodule\n",
      "     Non-Nodules |                  |             2051 |               37\n",
      "          Benign |                0 |                0 |                2\n",
      "       Malignant |                0 |                0 |                0\n"
     ]
    },
    {
     "name": "stderr",
     "output_type": "stream",
     "text": [
      "2025-02-15 16:07:03,717 INFO     pid:13908 util.util:236:enumerateWithEstimate Series    4/9, done at 2025-02-15 16:12:48, 0:12:56\n"
     ]
    },
    {
     "name": "stdout",
     "output_type": "stream",
     "text": [
      "1.3.6.1.4.1.14519.5.2.1.6279.6001.216652640878960522552873394709\n",
      "                 |    Complete Miss |     Filtered Out |     Pred. Nodule\n",
      "     Non-Nodules |                  |             1074 |                3\n",
      "          Benign |                0 |                0 |                0\n",
      "       Malignant |                0 |                0 |                0\n",
      "1.3.6.1.4.1.14519.5.2.1.6279.6001.270390050141765094612147226290\n",
      "                 |    Complete Miss |     Filtered Out |     Pred. Nodule\n",
      "     Non-Nodules |                  |             1313 |               12\n",
      "          Benign |                1 |                0 |                1\n",
      "       Malignant |                1 |                0 |                0\n",
      "1.3.6.1.4.1.14519.5.2.1.6279.6001.310395752124284049604069960014\n",
      "                 |    Complete Miss |     Filtered Out |     Pred. Nodule\n",
      "     Non-Nodules |                  |             1004 |                5\n",
      "          Benign |                0 |                1 |                1\n",
      "       Malignant |                0 |                0 |                1\n",
      "1.3.6.1.4.1.14519.5.2.1.6279.6001.479402560265137632920333093071\n",
      "                 |    Complete Miss |     Filtered Out |     Pred. Nodule\n",
      "     Non-Nodules |                  |             1627 |               45\n",
      "          Benign |                0 |                0 |                2\n",
      "       Malignant |                0 |                0 |                0\n"
     ]
    },
    {
     "name": "stderr",
     "output_type": "stream",
     "text": [
      "2025-02-15 16:11:46,591 INFO     pid:13908 util.util:236:enumerateWithEstimate Series    8/9, done at 2025-02-15 16:11:46, 0:11:54\n",
      "2025-02-15 16:11:46,591 WARNING  pid:13908 util.util:249:enumerateWithEstimate Series ----/9, done at 2025-02-15 16:11:46\n",
      "2025-02-15 16:11:46,609 INFO     pid:13908 nb:010:run Finished: p2ch14.nodule_analysis.NoduleAnalysisApp.['--num-workers=4', '--run-validation']).main()\n"
     ]
    },
    {
     "name": "stdout",
     "output_type": "stream",
     "text": [
      "1.3.6.1.4.1.14519.5.2.1.6279.6001.801945620899034889998809817499\n",
      "                 |    Complete Miss |     Filtered Out |     Pred. Nodule\n",
      "     Non-Nodules |                  |             2361 |               50\n",
      "          Benign |                0 |                0 |                0\n",
      "       Malignant |                0 |                0 |                1\n",
      "Total\n",
      "                 |    Complete Miss |     Filtered Out |     Pred. Nodule\n",
      "     Non-Nodules |                  |            12437 |              186\n",
      "          Benign |                1 |                1 |                8\n",
      "       Malignant |                1 |                0 |                3\n"
     ]
    }
   ],
   "source": [
    "run('p2ch14.nodule_analysis.NoduleAnalysisApp', '--run-validation')"
   ]
  },
  {
   "cell_type": "code",
   "execution_count": null,
   "metadata": {},
   "outputs": [],
   "source": [
    "run('p2ch14.nodule_analysis.NoduleAnalysisApp', '--run-validation', '--malignancy-path')"
   ]
  },
  {
   "cell_type": "code",
   "execution_count": null,
   "metadata": {},
   "outputs": [
    {
     "name": "stderr",
     "output_type": "stream",
     "text": [
      "2025-02-15 16:13:06,879 INFO     pid:13908 nb:005:run Running: p2ch14.nodule_analysis.NoduleAnalysisApp(['--num-workers=4', 'series_uid=1.3.6.1.4.1.14519.5.2.1.6279.6001.801945620899034889998809817499']).main()\n",
      "2025-02-15 16:13:06,880 DEBUG    pid:13908 p2ch14.nodule_analysis:211:initModels data/part2/models/seg_2020-01-26_19.45.12_w4d3c1-bal_1_nodupe-label_pos-d1_fn8-adam.best.state\n",
      "2025-02-15 16:13:06,893 DEBUG    pid:13908 p2ch14.nodule_analysis:227:initModels data/part2/models/cls_2020-02-06_14.16.55_final-nodule-nonnodule.best.state\n",
      "2025-02-15 16:13:06,902 INFO     pid:13908 p2ch14.nodule_analysis:287:main Starting NoduleAnalysisApp, Namespace(batch_size=4, num_workers=4, run_validation=False, include_train=False, segmentation_path='data/part2/models/seg_2020-01-26_19.45.12_w4d3c1-bal_1_nodupe-label_pos-d1_fn8-adam.best.state', cls_model='LunaModel', classification_path='data/part2/models/cls_2020-02-06_14.16.55_final-nodule-nonnodule.best.state', malignancy_model='LunaModel', malignancy_path=None, tb_prefix='p2ch14', series_uid='series_uid=1.3.6.1.4.1.14519.5.2.1.6279.6001.801945620899034889998809817499')\n",
      "2025-02-15 16:13:06,927 WARNING  pid:13908 util.util:219:enumerateWithEstimate Series ----/0, starting\n",
      "2025-02-15 16:13:06,928 WARNING  pid:13908 util.util:249:enumerateWithEstimate Series ----/0, done at 2025-02-15 16:13:06\n",
      "2025-02-15 16:13:06,929 INFO     pid:13908 nb:010:run Finished: p2ch14.nodule_analysis.NoduleAnalysisApp.['--num-workers=4', 'series_uid=1.3.6.1.4.1.14519.5.2.1.6279.6001.801945620899034889998809817499']).main()\n"
     ]
    },
    {
     "name": "stdout",
     "output_type": "stream",
     "text": [
      "Total\n",
      "                 |    Complete Miss |     Filtered Out |     Pred. Nodule\n",
      "     Non-Nodules |                  |                0 |                0\n",
      "          Benign |                0 |                0 |                0\n",
      "       Malignant |                0 |                0 |                0\n"
     ]
    }
   ],
   "source": [
    "run('p2ch14.nodule_analysis.NoduleAnalysisApp', 'series_uid=1.3.6.1.4.1.14519.5.2.1.6279.6001.801945620899034889998809817499')\n",
    "#something is wrong here"
   ]
  }
 ],
 "metadata": {
  "kernelspec": {
   "display_name": "Python 3",
   "language": "python",
   "name": "python3"
  },
  "language_info": {
   "codemirror_mode": {
    "name": "ipython",
    "version": 3
   },
   "file_extension": ".py",
   "mimetype": "text/x-python",
   "name": "python",
   "nbconvert_exporter": "python",
   "pygments_lexer": "ipython3",
   "version": "3.12.0"
  }
 },
 "nbformat": 4,
 "nbformat_minor": 2
}
